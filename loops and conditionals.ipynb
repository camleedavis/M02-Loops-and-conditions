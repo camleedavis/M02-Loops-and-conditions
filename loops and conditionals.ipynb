{
 "cells": [
  {
   "cell_type": "code",
   "execution_count": 1,
   "metadata": {},
   "outputs": [
    {
     "name": "stdout",
     "output_type": "stream",
     "text": [
      "too high\n"
     ]
    }
   ],
   "source": [
    "#4.1\n",
    "secret = 4\n",
    "guess = 6\n",
    "\n",
    "if guess < secret:\n",
    "    print(\"too low\")\n",
    "elif guess > secret:\n",
    "    print(\"too high\")\n",
    "else: \n",
    "    print(\"Just right\")"
   ]
  },
  {
   "cell_type": "code",
   "execution_count": null,
   "metadata": {},
   "outputs": [],
   "source": [
    "#4.2\n",
    "small = False\n",
    "green = True\n",
    "\n",
    "    if small :\n",
    "        if green:\n",
    "            print(\"pea\")\n",
    "        else:\n",
    "            print(\"cherry\")\n",
    "    else:\n",
    "        if green:\n",
    "            print(\"watermelon\")\n",
    "        else:\n",
    "            print(\"pumpkin\")"
   ]
  },
  {
   "cell_type": "code",
   "execution_count": 4,
   "metadata": {},
   "outputs": [
    {
     "name": "stdout",
     "output_type": "stream",
     "text": [
      "too low\n",
      "too low\n",
      "too low\n",
      "too low\n",
      "too low\n",
      "too low\n",
      "found it!\n"
     ]
    }
   ],
   "source": [
    "#6.2\n",
    "guess_me = 7\n",
    "number = 1\n",
    "while True:\n",
    "    if number < guess_me:\n",
    "        print('too low')\n",
    "    elif number == guess_me:\n",
    "        print('found it!')\n",
    "        break\n",
    "    elif number > guess_me:\n",
    "        print('oops')\n",
    "        break\n",
    "    number += 1"
   ]
  },
  {
   "cell_type": "code",
   "execution_count": 3,
   "metadata": {},
   "outputs": [
    {
     "name": "stdout",
     "output_type": "stream",
     "text": [
      "too low\n",
      "too low\n",
      "too low\n",
      "too low\n",
      "too low\n",
      "found it!\n"
     ]
    }
   ],
   "source": [
    "#6.3\n",
    "guess_me = 5\n",
    "for number in range(10):\n",
    "    if number < guess_me:\n",
    "        print(\"too low\")\n",
    "    elif number == guess_me:\n",
    "        print(\"found it!\")\n",
    "        break\n",
    "    else:\n",
    "        print(\"oops\")\n",
    "        break"
   ]
  }
 ],
 "metadata": {
  "kernelspec": {
   "display_name": "Python 3.9.10 64-bit",
   "language": "python",
   "name": "python3"
  },
  "language_info": {
   "codemirror_mode": {
    "name": "ipython",
    "version": 3
   },
   "file_extension": ".py",
   "mimetype": "text/x-python",
   "name": "python",
   "nbconvert_exporter": "python",
   "pygments_lexer": "ipython3",
   "version": "3.9.10"
  },
  "orig_nbformat": 4,
  "vscode": {
   "interpreter": {
    "hash": "df5d839fbdbcfb6b5113f7b1e2d44cc38809c4bd0c4c8b4c7e2368ac856db171"
   }
  }
 },
 "nbformat": 4,
 "nbformat_minor": 2
}
